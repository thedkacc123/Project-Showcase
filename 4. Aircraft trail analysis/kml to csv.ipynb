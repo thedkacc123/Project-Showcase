{
 "cells": [
  {
   "cell_type": "code",
   "execution_count": 1,
   "id": "0fe6f33f",
   "metadata": {},
   "outputs": [],
   "source": [
    "import re\n",
    "import pandas as pd"
   ]
  },
  {
   "cell_type": "code",
   "execution_count": 8,
   "id": "f96c3243",
   "metadata": {},
   "outputs": [],
   "source": [
    "filename = 'My Places.kml'\n",
    "\n",
    "textfile = open(filename, 'r')\n",
    "filetext = textfile.read()\n",
    "textfile.close()\n",
    "\n",
    "twy_section = re.findall(\"(?<=<name>).+(?=</name>)\", filetext)\n",
    "twy_coordinates = re.findall(\"(?<=<coordinates>\\n)\\t+.+(?=\\n\\t+</coordinates>)\", filetext)\n",
    "\n",
    "twy_section = twy_section[2:]\n",
    "\n",
    "twy_coordinates_cleaned = []\n",
    "\n",
    "for i in range(len(twy_coordinates)):\n",
    "    temp = twy_coordinates[i].replace(\"\\t\", \"\").replace(\"0 \", \"\").split(',')\n",
    "    twy_coordinates_cleaned.append(temp)\n",
    "\n",
    "coordinates_seq = [1,0,3,2,5,4,7,6]\n",
    "coordinates_seq_head = ['X1', 'Y1', 'X2', 'Y2', 'X3', 'Y3', 'X4', 'Y4',]\n",
    "twy_coordinates_final = {}\n",
    "twy_coordinates_final2 = {}\n",
    "\n",
    "for j in coordinates_seq :\n",
    "    temp_list=[]\n",
    "    for i in range(len(twy_coordinates_cleaned)):\n",
    "        temp = twy_coordinates_cleaned[i][j]\n",
    "        temp_list.append(temp)\n",
    "    twy_coordinates_final.update({str(j): temp_list})\n",
    "\n",
    "for i in range(len(coordinates_seq_head)):\n",
    "    twy_coordinates_final2[coordinates_seq_head[i]] = twy_coordinates_final[str(coordinates_seq[i])]\n",
    "\n",
    "\n",
    "df = pd.DataFrame({\n",
    "    'taxiway': twy_section,\n",
    "    'X1':twy_coordinates_final2['X1'],\n",
    "    'Y1':twy_coordinates_final2['Y1'],\n",
    "    'X2':twy_coordinates_final2['X2'],\n",
    "    'Y2':twy_coordinates_final2['Y2'],\n",
    "    'X3':twy_coordinates_final2['X3'],\n",
    "    'Y3':twy_coordinates_final2['Y3'],\n",
    "    'X4':twy_coordinates_final2['X4'],\n",
    "    'Y4':twy_coordinates_final2['Y4'],\n",
    "})\n",
    "\n",
    "df.to_csv('TWY Locality.csv', index=False)"
   ]
  },
  {
   "cell_type": "code",
   "execution_count": null,
   "id": "cf3f9bf7",
   "metadata": {},
   "outputs": [],
   "source": []
  }
 ],
 "metadata": {
  "kernelspec": {
   "display_name": "Python 3",
   "language": "python",
   "name": "python3"
  },
  "language_info": {
   "codemirror_mode": {
    "name": "ipython",
    "version": 3
   },
   "file_extension": ".py",
   "mimetype": "text/x-python",
   "name": "python",
   "nbconvert_exporter": "python",
   "pygments_lexer": "ipython3",
   "version": "3.7.4"
  },
  "toc": {
   "base_numbering": 1,
   "nav_menu": {},
   "number_sections": true,
   "sideBar": true,
   "skip_h1_title": false,
   "title_cell": "Table of Contents",
   "title_sidebar": "Contents",
   "toc_cell": false,
   "toc_position": {},
   "toc_section_display": true,
   "toc_window_display": false
  }
 },
 "nbformat": 4,
 "nbformat_minor": 5
}
