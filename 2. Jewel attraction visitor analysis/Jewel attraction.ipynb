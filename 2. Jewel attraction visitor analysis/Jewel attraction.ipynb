{
 "cells": [
  {
   "cell_type": "markdown",
   "id": "ac9d92f3",
   "metadata": {},
   "source": [
    "This analysis is to find out:\n",
    "1. how do we promote Jewel attractions to rest of population and;\n",
    "2. how to get Jewel attraction go-ers to spend even more with us\n",
    "\n",
    "For this, we looked at:\n",
    "1. what is the propotion of Jewel's attraction visitors spent in the airport before or after visiting the attractions\n",
    "2. What is the average complimentary spending?\n",
    "3. What do they spent on?\n",
    "4. Days between purchase of attraction pass/ticket and the actual visits\n",
    "5. Time of visits"
   ]
  },
  {
   "cell_type": "code",
   "execution_count": null,
   "id": "c1329733",
   "metadata": {},
   "outputs": [],
   "source": [
    "import numpy as np\n",
    "import pandas as pd\n",
    "from scipy import stats\n",
    "import matplotlib.pyplot as plt\n",
    "import seaborn as sns\n",
    "\n",
    "pd.options.display.max_colwidth=100"
   ]
  },
  {
   "cell_type": "code",
   "execution_count": null,
   "id": "19594e2e",
   "metadata": {},
   "outputs": [],
   "source": [
    "jewel_txn = pd.read_csv('JCASG-20210702-MemberTransaction.csv')\n",
    "\n",
    "jewel_cust_id = pd.read_csv('jewel_customer id.csv')\n",
    "jewel_cust_id.columns = ['HashEmail', 'CUSTOMERID', 'CR_Tier']\n",
    "\n",
    "txn_data = pd.read_csv('txn_Oct20 to June21.csv')"
   ]
  },
  {
   "cell_type": "code",
   "execution_count": null,
   "id": "0da5003d",
   "metadata": {},
   "outputs": [],
   "source": [
    "jewel_txn['TransactionDate'] = pd.to_datetime(jewel_txn['TransactionDate'])\n",
    "jewel_txn['MembershipStartDate'] = pd.to_datetime(jewel_txn['MembershipStartDate'], format='%Y-%m-%d')\n",
    "txn_data['TRANSACTIONDATE'] = pd.to_datetime(txn_data['TRANSACTIONDATE'])\n",
    "\n",
    "jewel_txn['MembershipExpiryDate'] = np.where(jewel_txn['MembershipExpiryDate']=='9999-12-31',\n",
    "                                             '2099-12-31',\n",
    "                                             jewel_txn['MembershipExpiryDate'])\n",
    "jewel_txn['MembershipExpiryDate'] = pd.to_datetime(jewel_txn['MembershipExpiryDate'], format='%Y-%m-%d')"
   ]
  },
  {
   "cell_type": "code",
   "execution_count": null,
   "id": "c28b6fbf",
   "metadata": {},
   "outputs": [],
   "source": [
    "jewel_txn['membership_flag'] = np.where(jewel_txn['MembershipType']=='Jewel Shopper',\n",
    "                                        1,\n",
    "                                        0)\n",
    "jewel_txn['HashEmail'] = jewel_txn['HashEmail'].str.upper()"
   ]
  },
  {
   "cell_type": "code",
   "execution_count": null,
   "id": "2eb2f535",
   "metadata": {},
   "outputs": [],
   "source": [
    "jewel_txn = jewel_txn.merge(right=jewel_cust_id, on='HashEmail', how='left').drop_duplicates()"
   ]
  },
  {
   "cell_type": "code",
   "execution_count": null,
   "id": "ae2f1504",
   "metadata": {},
   "outputs": [],
   "source": [
    "jewel_txn.head()"
   ]
  },
  {
   "cell_type": "code",
   "execution_count": null,
   "id": "4081de90",
   "metadata": {},
   "outputs": [],
   "source": [
    "txn_data.head()"
   ]
  },
  {
   "cell_type": "code",
   "execution_count": null,
   "id": "84f30797",
   "metadata": {},
   "outputs": [],
   "source": [
    "JEWEL_ATTRACTIONS =['Attractions', 'Changi Experience Studio']\n",
    "\n",
    "len(jewel_txn[(jewel_txn['Location'].isin(JEWEL_ATTRACTIONS)) &\n",
    "              (jewel_txn['TransactionDate']>='2020-10-01') &\n",
    "              (jewel_txn['TransactionDate']<='2021-03-31')])"
   ]
  },
  {
   "cell_type": "code",
   "execution_count": null,
   "id": "af558814",
   "metadata": {},
   "outputs": [],
   "source": [
    "jewel_txn[(jewel_txn['Location'].isin(JEWEL_ATTRACTIONS)) &\n",
    "          (jewel_txn['TransactionDate']>='2020-10-01') &\n",
    "          (jewel_txn['TransactionDate']<='2021-03-31')&\n",
    "          ~(jewel_txn['CUSTOMERID'].isna())].CUSTOMERID.nunique()"
   ]
  },
  {
   "cell_type": "code",
   "execution_count": null,
   "id": "903f5a32",
   "metadata": {},
   "outputs": [],
   "source": [
    "jewel_txn['TransactionMonth'] = jewel_txn['TransactionDate'].dt.strftime('%Y-%m')\n",
    "\n",
    "txn_attr_only = jewel_txn[(jewel_txn['Location'].isin(JEWEL_ATTRACTIONS)) & ~(jewel_txn['CUSTOMERID'].isna())]\n",
    "to_plot = txn_attr_only.groupby('TransactionMonth').agg({'CUSTOMERID':np.count_nonzero}).reset_index()\n",
    "\n",
    "fig, ax = plt.subplots(figsize=(15,5))\n",
    "sns.barplot(x='TransactionMonth', y='CUSTOMERID', data=to_plot,\n",
    "            ax=ax)"
   ]
  },
  {
   "cell_type": "markdown",
   "id": "2a3dc0d4",
   "metadata": {},
   "source": [
    "# Complimentary spending before or after visiting Jewel's attractions"
   ]
  },
  {
   "cell_type": "code",
   "execution_count": null,
   "id": "8e232a94",
   "metadata": {},
   "outputs": [],
   "source": [
    "jewel_txn['unique_mdm_date'] = (jewel_txn['CUSTOMERID']\n",
    "                                + '_'\n",
    "                                + jewel_txn['TransactionDate'].dt.strftime('%Y-%m-%d'))\n",
    "\n",
    "txn_data['unique_mdm_date'] = (txn_data['CUSTOMERID']\n",
    "                               + '_'\n",
    "                               + txn_data['TRANSACTIONDATE'].dt.strftime('%Y-%m-%d'))"
   ]
  },
  {
   "cell_type": "code",
   "execution_count": null,
   "id": "63060903",
   "metadata": {},
   "outputs": [],
   "source": [
    "txn_data.head()"
   ]
  },
  {
   "cell_type": "code",
   "execution_count": null,
   "id": "e3baf4c3",
   "metadata": {},
   "outputs": [],
   "source": [
    "member_visited_attr = jewel_txn[\n",
    "    ~(jewel_txn['CUSTOMERID'].isna())\n",
    "    &\n",
    "    (jewel_txn['Location'].isin(JEWEL_ATTRACTIONS))\n",
    "    ].drop_duplicates(['unique_mdm_date'])\n",
    "lst_member_visited_attr = member_visited_attr['unique_mdm_date'].to_list()"
   ]
  },
  {
   "cell_type": "code",
   "execution_count": null,
   "id": "4877d7eb",
   "metadata": {},
   "outputs": [],
   "source": [
    "txn_compliment_attr = txn_data[txn_data['unique_mdm_date'].isin(lst_member_visited_attr)]"
   ]
  },
  {
   "cell_type": "code",
   "execution_count": null,
   "id": "92387427",
   "metadata": {},
   "outputs": [],
   "source": [
    "w_other_spendings = txn_compliment_attr.CUSTOMERID.nunique()\n",
    "spent_at_attr = (jewel_txn[(jewel_txn['Location'].isin(JEWEL_ATTRACTIONS)) &\n",
    "                           ~(jewel_txn['CUSTOMERID'].isna())].CUSTOMERID.nunique())\n",
    "\n",
    "(w_other_spendings/spent_at_attr) * 100"
   ]
  },
  {
   "cell_type": "code",
   "execution_count": null,
   "id": "126848ae",
   "metadata": {},
   "outputs": [],
   "source": [
    "w_other_spendings"
   ]
  },
  {
   "cell_type": "code",
   "execution_count": null,
   "id": "e62d9384",
   "metadata": {},
   "outputs": [],
   "source": [
    "len(member_visited_attr)"
   ]
  },
  {
   "cell_type": "code",
   "execution_count": null,
   "id": "514dcf0e",
   "metadata": {},
   "outputs": [],
   "source": [
    "fig, ax = plt.subplots(figsize=(10, 5), subplot_kw=dict(aspect=\"equal\"))\n",
    "\n",
    "labels = [\"{} visitors spent on other products/service on day of visit\".format(w_other_spendings),\n",
    "          \"\"]\n",
    "\n",
    "data = [w_other_spendings, spent_at_attr-w_other_spendings]\n",
    "\n",
    "wedges, texts = ax.pie(data, wedgeprops=dict(width=0.5), startangle=-40)\n",
    "\n",
    "bbox_props = dict(boxstyle=\"square,pad=0.3\", fc=\"w\", ec=\"k\", lw=0.72)\n",
    "kw = dict(arrowprops=dict(arrowstyle=\"-\"),\n",
    "          bbox=bbox_props, zorder=0, va=\"center\")\n",
    "\n",
    "for i, p in enumerate(wedges):\n",
    "    ang = (p.theta2 - p.theta1)/2. + p.theta1\n",
    "    y = np.sin(np.deg2rad(ang))\n",
    "    x = np.cos(np.deg2rad(ang))\n",
    "    horizontalalignment = {-1: \"right\", 1: \"left\"}[int(np.sign(x))]\n",
    "    connectionstyle = \"angle,angleA=0,angleB={}\".format(ang)\n",
    "    kw[\"arrowprops\"].update({\"connectionstyle\": connectionstyle})\n",
    "    ax.annotate(labels[i], xy=(x, y), xytext=(1.35*np.sign(x), 1.4*y),\n",
    "                horizontalalignment=horizontalalignment, **kw)\n",
    "\n",
    "ax.set_title(\"{} visited Jewel's attractions\".format(spent_at_attr))\n",
    "\n",
    "plt.show()"
   ]
  },
  {
   "cell_type": "code",
   "execution_count": null,
   "id": "1e1f9add",
   "metadata": {},
   "outputs": [],
   "source": [
    "to_plot = txn_compliment_attr.groupby(['PRODNM']).agg(\n",
    "    {\n",
    "        'NETSPEND':[np.count_nonzero, np.sum]\n",
    "    }).droplevel(0, axis=1).sort_values('sum', ascending=False).reset_index()"
   ]
  },
  {
   "cell_type": "code",
   "execution_count": null,
   "id": "c82b6412",
   "metadata": {},
   "outputs": [],
   "source": [
    "to_plot"
   ]
  },
  {
   "cell_type": "code",
   "execution_count": null,
   "id": "dc0bbaec",
   "metadata": {},
   "outputs": [],
   "source": [
    "fig, ax = plt.subplots(figsize=(15,5))\n",
    "ax.set_xticklabels(to_plot['PRODNM'], rotation=50, ha='right')\n",
    "\n",
    "sns.barplot(x='PRODNM', y='sum', data=to_plot,\n",
    "            ax=ax)"
   ]
  },
  {
   "cell_type": "markdown",
   "id": "1cd52ca9",
   "metadata": {},
   "source": [
    "## in Jewel or Terminal??"
   ]
  },
  {
   "cell_type": "code",
   "execution_count": null,
   "id": "ae8f8fe8",
   "metadata": {},
   "outputs": [],
   "source": [
    "txn_compliment_attr['jewel_flag'] = np.where(txn_compliment_attr['LOCATIONNM']=='CAG JEWEL',\n",
    "                                             'Jewel',\n",
    "                                             'Terminals')"
   ]
  },
  {
   "cell_type": "code",
   "execution_count": null,
   "id": "01fdfe64",
   "metadata": {},
   "outputs": [],
   "source": [
    "txn_compliment_attr.head()"
   ]
  },
  {
   "cell_type": "code",
   "execution_count": null,
   "id": "9da53132",
   "metadata": {},
   "outputs": [],
   "source": [
    "txn_compliment_attr.groupby('jewel_flag').agg({'NETSPEND':np.sum})"
   ]
  },
  {
   "cell_type": "markdown",
   "id": "b9cfa2f6",
   "metadata": {},
   "source": [
    "# Do the attractions encourage more visits and spendings?"
   ]
  },
  {
   "cell_type": "code",
   "execution_count": null,
   "id": "d4bdd220",
   "metadata": {},
   "outputs": [],
   "source": [
    "txn_data.head(1)"
   ]
  },
  {
   "cell_type": "markdown",
   "id": "7f2509d9",
   "metadata": {},
   "source": [
    "## visits"
   ]
  },
  {
   "cell_type": "code",
   "execution_count": null,
   "id": "765dd439",
   "metadata": {},
   "outputs": [],
   "source": [
    "member_visited_attr = txn_compliment_attr.CUSTOMERID.drop_duplicates().to_list()\n",
    "member_visited_attr_today = txn_compliment_attr.unique_mdm_date.drop_duplicates().to_list()"
   ]
  },
  {
   "cell_type": "code",
   "execution_count": null,
   "id": "99ec1667",
   "metadata": {},
   "outputs": [],
   "source": [
    "txn_data_21 = txn_data.copy()"
   ]
  },
  {
   "cell_type": "code",
   "execution_count": null,
   "id": "46a02020",
   "metadata": {},
   "outputs": [],
   "source": [
    "txn_data_21['attr_flag'] = np.where(txn_data_21['CUSTOMERID'].isin(member_visited_attr),\n",
    "                                    'visited_attr',\n",
    "                                    'x_visited_attr')"
   ]
  },
  {
   "cell_type": "code",
   "execution_count": null,
   "id": "3a237d5b",
   "metadata": {},
   "outputs": [],
   "source": [
    "txn_data_21.drop_duplicates(['unique_mdm_date'], inplace=True)"
   ]
  },
  {
   "cell_type": "code",
   "execution_count": null,
   "id": "abe55f98",
   "metadata": {},
   "outputs": [],
   "source": [
    "cust_grouped = txn_data_21.groupby(['CUSTOMERID', 'attr_flag']).agg({'TRANSACTIONDATE':np.count_nonzero}).reset_index()"
   ]
  },
  {
   "cell_type": "code",
   "execution_count": null,
   "id": "c339ff6e",
   "metadata": {},
   "outputs": [],
   "source": [
    "cust_grouped.head()"
   ]
  },
  {
   "cell_type": "code",
   "execution_count": null,
   "id": "87cb1aac",
   "metadata": {},
   "outputs": [],
   "source": [
    "cust_grouped.groupby(['attr_flag']).agg({'TRANSACTIONDATE':[np.mean]}).droplevel(0, axis=1)"
   ]
  },
  {
   "cell_type": "code",
   "execution_count": null,
   "id": "ec6533ed",
   "metadata": {},
   "outputs": [],
   "source": [
    "fig, ax = plt.subplots(figsize=(15,7))\n",
    "ax.set_xticks([x+0.5 for x in range(0,11)])\n",
    "ax.set_xticklabels([x for x in range(0,11)])\n",
    "\n",
    "ax.hist(x=cust_grouped[cust_grouped['attr_flag']=='visited_attr'].TRANSACTIONDATE,\n",
    "        bins=[x for x in range(0,11)],\n",
    "        density=True)\n",
    "\n",
    "ax.hist(x=cust_grouped[cust_grouped['attr_flag']=='x_visited_attr'].TRANSACTIONDATE,\n",
    "        bins=[x for x in range(0,11)],\n",
    "        density=True)\n",
    "\n",
    "ax.set_xlabel('number of visits to Airport')\n",
    "ax.set_ylabel('percentage of population')\n",
    "ax.legend([\"visited Jewel's attractions\", \"never visited Jewel's attractions\"])"
   ]
  },
  {
   "cell_type": "markdown",
   "id": "0ec16d92",
   "metadata": {},
   "source": [
    "## average spendings"
   ]
  },
  {
   "cell_type": "code",
   "execution_count": null,
   "id": "72ca195e",
   "metadata": {},
   "outputs": [],
   "source": [
    "cust_grouped_2 = txn_data_21.groupby(\n",
    "    ['CUSTOMERID', 'attr_flag']).agg({'NETSPEND':np.sum}).reset_index()"
   ]
  },
  {
   "cell_type": "code",
   "execution_count": null,
   "id": "10cb0909",
   "metadata": {},
   "outputs": [],
   "source": [
    "cut_off_pct = np.percentile(cust_grouped_2['NETSPEND'], 99)\n",
    "\n",
    "cust_grouped_2[cust_grouped_2['NETSPEND']<=cut_off_pct].groupby(['attr_flag']).agg({'NETSPEND':[np.mean]}).droplevel(0, axis=1)"
   ]
  },
  {
   "cell_type": "code",
   "execution_count": null,
   "id": "eb9935b5",
   "metadata": {},
   "outputs": [],
   "source": [
    "fig, ax = plt.subplots(figsize=(15,5))\n",
    "ax.set_xticks([x for x in range(0,1600,100)])\n",
    "#ax.set_xticklabels([x for x in range(0,1000,100)])\n",
    "\n",
    "ax.hist(x=cust_grouped_2[cust_grouped_2['attr_flag']=='visited_attr'].NETSPEND,\n",
    "        bins=[x for x in range(0,1600,100)],\n",
    "        density=True)m\n",
    "\n",
    "ax.hist(x=cust_grouped_2[cust_grouped_2['attr_flag']=='x_visited_attr'].NETSPEND,\n",
    "        bins=[x for x in range(0,1600,100)],\n",
    "        density=True)"
   ]
  },
  {
   "cell_type": "markdown",
   "id": "6c65d8db",
   "metadata": {},
   "source": [
    "## Spending category"
   ]
  },
  {
   "cell_type": "code",
   "execution_count": null,
   "id": "7bf155d1",
   "metadata": {},
   "outputs": [],
   "source": [
    "cust_grouped_4 = txn_data_21.groupby(['attr_flag', 'PRODNM']).agg(\n",
    "    {'NETSPEND':np.sum})\n",
    "cust_grouped_4.unstack(0).droplevel(0, axis=1).fillna(0).sort_values('visited_attr', ascending=False).head(10)"
   ]
  },
  {
   "cell_type": "code",
   "execution_count": null,
   "id": "5151a5cc",
   "metadata": {},
   "outputs": [],
   "source": [
    "LUXURIES =['Watches', 'Luxury Brand Name', 'Jewellery']\n",
    "\n",
    "cust_grouped_4 = txn_data_21[txn_data_21['PRODNM'].isin(LUXURIES)].groupby(['attr_flag', 'PRODNM']).agg(\n",
    "    {'NETSPEND':np.mean})\n",
    "cust_grouped_4.unstack(0).droplevel(0, axis=1).fillna(0).sort_values('x_visited_attr', ascending=False)"
   ]
  },
  {
   "cell_type": "code",
   "execution_count": null,
   "id": "ce26c32d",
   "metadata": {},
   "outputs": [],
   "source": [
    "FOOD =['Specialty Restaurant', 'Café', 'Fast Food']\n",
    "\n",
    "cust_grouped_4 = txn_data_21[txn_data_21['PRODNM'].isin(FOOD)].groupby(['attr_flag', 'PRODNM']).agg(\n",
    "    {'NETSPEND':np.mean})\n",
    "cust_grouped_4.unstack(0).droplevel(0, axis=1).fillna(0).sort_values('x_visited_attr', ascending=False)"
   ]
  },
  {
   "cell_type": "code",
   "execution_count": null,
   "id": "606fd19e",
   "metadata": {},
   "outputs": [],
   "source": [
    "len(txn_data_21[txn_data_21['PRODNM']=='Watches'])"
   ]
  },
  {
   "cell_type": "markdown",
   "id": "50031f48",
   "metadata": {},
   "source": [
    "# Membership details"
   ]
  },
  {
   "cell_type": "code",
   "execution_count": null,
   "id": "7dfc83ba",
   "metadata": {},
   "outputs": [],
   "source": [
    "txn_compliment_attr.head()"
   ]
  },
  {
   "cell_type": "code",
   "execution_count": null,
   "id": "61125912",
   "metadata": {},
   "outputs": [],
   "source": [
    "jewel_txn_unique_mdm = jewel_txn.drop_duplicates(['CUSTOMERID'])"
   ]
  },
  {
   "cell_type": "code",
   "execution_count": null,
   "id": "ac8fabd5",
   "metadata": {},
   "outputs": [],
   "source": [
    "txn_compliment_attr_expanded = txn_compliment_attr.merge(\n",
    "    right=jewel_txn_unique_mdm[['CUSTOMERID', 'MembershipType', 'CR_Tier']],\n",
    "    on='CUSTOMERID',\n",
    "    how='left').drop_duplicates()"
   ]
  },
  {
   "cell_type": "code",
   "execution_count": null,
   "id": "548ece66",
   "metadata": {},
   "outputs": [],
   "source": [
    "txn_compliment_attr_expanded['pass_flag'] = np.where(txn_compliment_attr_expanded['MembershipType']=='Jewel Shopper',\n",
    "                                                     'x_pass_holder',\n",
    "                                                     'pass_holder')"
   ]
  },
  {
   "cell_type": "code",
   "execution_count": null,
   "id": "23257f0f",
   "metadata": {},
   "outputs": [],
   "source": [
    "txn_compliment_attr.head()"
   ]
  },
  {
   "cell_type": "markdown",
   "id": "805fd8ea",
   "metadata": {},
   "source": [
    "## Spending difference"
   ]
  },
  {
   "cell_type": "code",
   "execution_count": null,
   "id": "87206154",
   "metadata": {},
   "outputs": [],
   "source": [
    "txn_compliment_attr_expanded.groupby(['pass_flag']).agg({'NETSPEND':np.mean})"
   ]
  },
  {
   "cell_type": "markdown",
   "id": "f78a43d9",
   "metadata": {},
   "source": [
    "## CR memberships"
   ]
  },
  {
   "cell_type": "code",
   "execution_count": null,
   "id": "4bf2b330",
   "metadata": {},
   "outputs": [],
   "source": [
    "visited_attr = jewel_txn[(jewel_txn['Location'].isin(JEWEL_ATTRACTIONS))].drop_duplicates(['CUSTOMERID'])\n",
    "visited_attr.CR_Tier.fillna('tba', inplace=True)"
   ]
  },
  {
   "cell_type": "code",
   "execution_count": null,
   "id": "240d0186",
   "metadata": {},
   "outputs": [],
   "source": [
    "visited_attr.head()"
   ]
  },
  {
   "cell_type": "code",
   "execution_count": null,
   "id": "1b6b43fc",
   "metadata": {},
   "outputs": [],
   "source": [
    "visited_attr.groupby(['CR_Tier']).agg(\n",
    "    {'CUSTOMERID':np.count_nonzero}).sort_values('CUSTOMERID', ascending=False)"
   ]
  },
  {
   "cell_type": "code",
   "execution_count": null,
   "id": "33df48ae",
   "metadata": {},
   "outputs": [],
   "source": [
    "visited_attr.CUSTOMERID.nunique()"
   ]
  },
  {
   "cell_type": "code",
   "execution_count": null,
   "id": "597745df",
   "metadata": {},
   "outputs": [],
   "source": [
    "visited_attr.head()"
   ]
  },
  {
   "cell_type": "markdown",
   "id": "cb125c10",
   "metadata": {},
   "source": [
    "# Days between pruchase of memberships and visits"
   ]
  },
  {
   "cell_type": "code",
   "execution_count": null,
   "id": "bfd275fe",
   "metadata": {},
   "outputs": [],
   "source": [
    "jewel_txn_34 = jewel_txn.copy()"
   ]
  },
  {
   "cell_type": "code",
   "execution_count": null,
   "id": "c39bba72",
   "metadata": {},
   "outputs": [],
   "source": [
    "jewel_txn_34.head()"
   ]
  },
  {
   "cell_type": "code",
   "execution_count": null,
   "id": "f054b341",
   "metadata": {},
   "outputs": [],
   "source": [
    "JEWEL_ATTRACTIONS =['Attractions', 'Changi Experience Studio']\n",
    "\n",
    "jewel_txn_34 = jewel_txn_34[jewel_txn_34['Location'].isin(JEWEL_ATTRACTIONS)]\n",
    "jewel_txn_34.sort_values(['TransactionDate'], inplace=True)\n",
    "jewel_txn_34.drop_duplicates(['HashEmail'], inplace=True)"
   ]
  },
  {
   "cell_type": "code",
   "execution_count": null,
   "id": "3d96a85d",
   "metadata": {},
   "outputs": [],
   "source": [
    "jewel_txn_34['time_diff'] = (jewel_txn_34['TransactionDate'] - jewel_txn_34['MembershipStartDate']).dt.days\n",
    "#jewel_txn_34['day_diff'] = jewel_txn_34['time_diff'].days"
   ]
  },
  {
   "cell_type": "code",
   "execution_count": null,
   "id": "1193820a",
   "metadata": {},
   "outputs": [],
   "source": [
    "jewel_txn_34.sort_values('time_diff', ascending=False).head()"
   ]
  },
  {
   "cell_type": "code",
   "execution_count": null,
   "id": "0edfac9a",
   "metadata": {},
   "outputs": [],
   "source": [
    "fig, ax = plt.subplots(figsize=(15,5))\n",
    "#ax.set_xticks([x for x in range(0,600,10)])\n",
    "\n",
    "ax.hist(x=jewel_txn_34[jewel_txn_34['time_diff']>=0]['time_diff'],\n",
    "        bins=[x for x in range(0,100,1)],\n",
    "        density=True)"
   ]
  },
  {
   "cell_type": "code",
   "execution_count": null,
   "id": "0c253553",
   "metadata": {},
   "outputs": [],
   "source": [
    "len(jewel_txn_34[jewel_txn_34['time_diff']==0]) / len(jewel_txn_34)"
   ]
  },
  {
   "cell_type": "code",
   "execution_count": null,
   "id": "b7f62658",
   "metadata": {},
   "outputs": [],
   "source": [
    "same_day_txn = jewel_txn_34[jewel_txn_34['time_diff']==0]"
   ]
  },
  {
   "cell_type": "code",
   "execution_count": null,
   "id": "d761ef0e",
   "metadata": {},
   "outputs": [],
   "source": [
    "same_day_txn['time_visited'] = same_day_txn['TransactionDate'].dt.hour"
   ]
  },
  {
   "cell_type": "code",
   "execution_count": null,
   "id": "ec30112e",
   "metadata": {},
   "outputs": [],
   "source": [
    "to_plot = same_day_txn.groupby(['time_visited']).agg({'CUSTOMERID':np.count_nonzero}).reset_index()\n",
    "\n",
    "fig,ax = plt.subplots(figsize=[15,5])\n",
    "\n",
    "plt.bar(x=to_plot['time_visited'], height=to_plot['CUSTOMERID'])\n",
    "plt.xlim(0,23)\n",
    "ax.set_xticks([x for x in range(0,24,1)])\n",
    "ax.set_xticklabels([x for x in range(0,24,1)])"
   ]
  },
  {
   "cell_type": "code",
   "execution_count": null,
   "id": "e8dd0f5f",
   "metadata": {},
   "outputs": [],
   "source": []
  }
 ],
 "metadata": {
  "kernelspec": {
   "display_name": "Python 3",
   "language": "python",
   "name": "python3"
  },
  "language_info": {
   "codemirror_mode": {
    "name": "ipython",
    "version": 3
   },
   "file_extension": ".py",
   "mimetype": "text/x-python",
   "name": "python",
   "nbconvert_exporter": "python",
   "pygments_lexer": "ipython3",
   "version": "3.7.4"
  },
  "toc": {
   "base_numbering": 1,
   "nav_menu": {},
   "number_sections": true,
   "sideBar": true,
   "skip_h1_title": false,
   "title_cell": "Table of Contents",
   "title_sidebar": "Contents",
   "toc_cell": false,
   "toc_position": {
    "height": "calc(100% - 180px)",
    "left": "10px",
    "top": "150px",
    "width": "244px"
   },
   "toc_section_display": true,
   "toc_window_display": false
  }
 },
 "nbformat": 4,
 "nbformat_minor": 5
}
